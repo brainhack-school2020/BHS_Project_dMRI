{
 "cells": [
  {
   "attachments": {},
   "cell_type": "markdown",
   "metadata": {},
   "source": [
    "# Step1: Prepare DWI Files\n",
    "* record the moving volumes\n",
    "* and arrange best b0 at the beginning"
   ]
  },
  {
   "attachments": {},
   "cell_type": "markdown",
   "metadata": {},
   "source": [
    "## Functions Definition"
   ]
  },
  {
   "cell_type": "code",
   "execution_count": null,
   "metadata": {},
   "outputs": [],
   "source": [
    "def mydcm2niix(Study_folder,replace_empty,dcm,nifti):\n",
    "    '''\n",
    "    Function 1: replace the ' ' in the subfolder name with '_';\n",
    "    Function 2: make the '*.dcm' files to '*.nii'\n",
    "    '''\n",
    "    import os\n",
    "    import numpy as np\n",
    "    Study_folder = Study_folder\n",
    "    os.chdir(Study_folder)\n",
    "    original_names = os.listdir(Study_folder)\n",
    "    # final names of each folder\n",
    "    final_names = os.listdir(Study_folder)\n",
    "    for i in np.arange(len(final_names)):\n",
    "        for j in np.arange(len(final_names[i])):\n",
    "            if final_names[i][j] == ' ':\n",
    "                temp_name = list(final_names[i])\n",
    "                temp_name[j] = '_'\n",
    "                final_names[i] = \"\".join(temp_name)\n",
    "    # replace empty space with '_'\n",
    "    if replace_empty == True:\n",
    "        for i in range(len(original_names)):\n",
    "            os.rename(original_names[i],final_names[i])\n",
    "        # create nifti or dicom\n",
    "        if nifti == True:\n",
    "            for i in range(len(final_names)):\n",
    "                os.chdir(os.path.join(Study_folder,final_names[i]))\n",
    "                # !rm *.json *.nii *.bval *.bvec\n",
    "                !dcm2niix ./\n",
    "                if dcm == False:\n",
    "                    !rm *.dcm\n",
    "                elif dcm == True:\n",
    "                    print('dicoms kept!')\n",
    "        if nifti == False:\n",
    "            print('no files have been converted to nifti' )\n",
    "    else:\n",
    "        print('Error! No operation has been done!')\n",
    "    "
   ]
  },
  {
   "cell_type": "code",
   "execution_count": null,
   "metadata": {},
   "outputs": [],
   "source": [
    "def delete_vol(brain_path,input_name,output_name,remove_vols,b_name_in,b_name_out,b_remove,type_output):\n",
    "    '''\n",
    "    delete_vol(brain_path,input_name='dwi_0.nii',output_name='dwi.nii',remove_vols=[9,16],\n",
    "                b_name_in='dwi_0',b_name_out='dwi',b_remove=True,type_output=16)\n",
    "    '''\n",
    "    import nibabel as nib\n",
    "    import numpy as np\n",
    "    from dipy.io.image import load_nifti,save_nifti\n",
    "    import os\n",
    "    from tqdm import tqdm\n",
    "    if type_output == 16:\n",
    "        type_output = np.int16\n",
    "    for Study_folder in tqdm(brain_path):\n",
    "        os.chdir(Study_folder)\n",
    "        # load data\n",
    "        bvals = np.loadtxt(b_name_in+'.bval')\n",
    "        bvecs = np.loadtxt(b_name_in+'.bvec')\n",
    "        data,aff,img = load_nifti(input_name,return_img=True)\n",
    "        zooms_old = img.header.get_zooms()[0:4]\n",
    "        data_save = np.zeros(data.shape[0:3]+(data.shape[3]-len(remove_vols),))\n",
    "        bval_new = np.zeros((1,data.shape[3]-len(remove_vols)))\n",
    "        bvec_new = np.zeros((3,data.shape[3]-len(remove_vols)))\n",
    "        if b_remove == True:\n",
    "            i_vol_new = -1\n",
    "            for i_vol in np.arange(data.shape[3]):\n",
    "                if i_vol not in np.array(remove_vols)-1:\n",
    "                    i_vol_new = i_vol_new + 1\n",
    "                    data_save[:,:,:,i_vol_new] = data[:,:,:,i_vol]\n",
    "                    if b_remove == True:\n",
    "                        bval_new[0,i_vol_new] = bvals[i_vol]\n",
    "                        bvec_new[:,i_vol_new] = bvecs[:,i_vol]\n",
    "            img_new = nib.Nifti1Image(data_save.astype(type_output), np.eye(4))\n",
    "            img_new.header.set_zooms(zooms_old)\n",
    "            img_new.header['intent_code'] = 1005\n",
    "            img_new.header['sform_code'] = 1\n",
    "            img_new.header['qform_code'] = 1\n",
    "            img_new.header['qoffset_x'] = 0\n",
    "            img_new.header['qoffset_y'] = 0\n",
    "            img_new.header['qoffset_z'] = 0\n",
    "            img_new.header['dim'][4] = data_save.shape[3]#[4,128,128,14,6,1,0,0]\n",
    "        else:\n",
    "            bval_new = bvals\n",
    "            bvec_new = bvecs\n",
    "            data_save = data\n",
    "        #save new nifti file\n",
    "        img.header['intent_code'] = 1005\n",
    "        save_nifti(output_name, data_save.astype(type_output), aff,hdr=img.header)\n",
    "        np.savetxt(b_name_out+'.bval', bval_new, fmt='%1.5f')\n",
    "        np.savetxt(b_name_out+'.bvec', bvec_new, fmt='%1.5f')"
   ]
  },
  {
   "cell_type": "code",
   "execution_count": null,
   "metadata": {},
   "outputs": [],
   "source": [
    "def best_b0_first(brain_path,input_name,output_name,best_b0_vols,b0_threshold,b_name_in,b_name_out,type_output):\n",
    "    '''\n",
    "    best_b0_vols: should be one number showing which volume is the best b0 volume; the best b0 index equals to best_b0_vols-1;\n",
    "    b0_threshold: one number value; b0 values are [0,b0_threshold);\n",
    "    usage: best_b0_first(brain_path,input_name='dwi_0.nii',output_name='dwi.nii',best_b0_vols=[9],b0_threshold=10,\n",
    "                  b_name_in='dwi_0',b_name_out='dwi',type_output=16)\n",
    "    '''\n",
    "    import nibabel as nib\n",
    "    import numpy as np\n",
    "    from dipy.io.image import load_nifti,save_nifti\n",
    "    import os\n",
    "    from tqdm import tqdm\n",
    "    if type_output == 16:\n",
    "        type_output = np.int16\n",
    "    for Study_folder in tqdm(brain_path):\n",
    "        os.chdir(Study_folder)\n",
    "        # load data\n",
    "        bvals = np.loadtxt(b_name_in+'.bval')\n",
    "        bvecs = np.loadtxt(b_name_in+'.bvec')\n",
    "        data,aff,img = load_nifti(input_name,return_img=True)\n",
    "        if len(data.shape)!=4:\n",
    "            print('Error!!! Data dimention must be 4D, plese check your data dimention!')\n",
    "        else:\n",
    "            zooms_old = img.header.get_zooms()[0:4]\n",
    "            data_new = np.zeros(data.shape)\n",
    "            bval_new = np.zeros((1,data.shape[3]))\n",
    "            bvec_new = np.zeros((3,data.shape[3]))\n",
    "            # best b0 vol\n",
    "            index_best_b0 = best_b0_vols-1\n",
    "            index_b0 = np.where(bvals<b0_threshold)[0]\n",
    "            index_b0_notbest = index_b0[np.where(index_b0!=index_best_b0)[0]]\n",
    "            index_b0_final = np.concatenate(([index_best_b0],index_b0_notbest),axis =0)\n",
    "            index_nonb0_final = np.where(bvals>=b0_threshold)[0]\n",
    "            index_final = np.concatenate((index_b0_final,index_nonb0_final),axis =0)\n",
    "            # arange the volumes\n",
    "            num_b0 = len(index_b0_final)\n",
    "            data_new = data[:,:,:,index_final]\n",
    "            # arange b values and b vectors\n",
    "            bval_new = bvals[index_final][np.newaxis,:]\n",
    "            bvec_new = bvecs[:,index_final]\n",
    "            # save new nifti file\n",
    "            img.header['intent_code'] = 1005\n",
    "            save_nifti(output_name, data_new.astype(type_output), aff,hdr=img.header)\n",
    "            np.savetxt(b_name_out+'.bval', bval_new, fmt='%1.5f')\n",
    "            np.savetxt(b_name_out+'.bvec', bvec_new, fmt='%1.5f')"
   ]
  },
  {
   "attachments": {},
   "cell_type": "markdown",
   "metadata": {},
   "source": [
    "## Processing"
   ]
  },
  {
   "attachments": {},
   "cell_type": "markdown",
   "metadata": {},
   "source": [
    "### Change folder name and generate nifti files"
   ]
  },
  {
   "cell_type": "code",
   "execution_count": null,
   "metadata": {},
   "outputs": [],
   "source": [
    "#-----------------------------------------------------------------\n",
    "# Change folder names\n",
    "Study_folder = '/media/erjun/One_Touch/Newborns/sub-B029S3/dicom/'\n",
    "mydcm2niix(Study_folder=Study_folder,replace_empty=True,dcm=True,nifti=False)\n",
    "# Change dicom files to nifti\n",
    "Study_folder = '/media/erjun/One_Touch/Newborns/sub-B029S3/nifti/'\n",
    "mydcm2niix(Study_folder=Study_folder,replace_empty=True,dcm=False,nifti=True)"
   ]
  },
  {
   "attachments": {},
   "cell_type": "markdown",
   "metadata": {},
   "source": [
    "### Removing Volumes If Needed"
   ]
  },
  {
   "cell_type": "code",
   "execution_count": null,
   "metadata": {},
   "outputs": [],
   "source": [
    "# Delete moving volumes\n",
    "brain_path = ['/media/erjun/One_Touch/Newborns/sub-B027S1/ses-02/Diffusion1/']\n",
    "delete_vol(brain_path,input_name='dwi_original.nii',output_name='dwi_rm.nii',remove_vols=[],\n",
    "           b_name_in='dwi_original',b_name_out='dwi_rm',b_remove=True,type_output=16)"
   ]
  },
  {
   "attachments": {},
   "cell_type": "markdown",
   "metadata": {},
   "source": [
    "### Moving Best Quality b0 To the Beginning"
   ]
  },
  {
   "cell_type": "code",
   "execution_count": null,
   "metadata": {},
   "outputs": [],
   "source": [
    "brain_path = ['/media/erjun/One_Touch/Newborns/sub-B027S1/ses-02/Diffusion1/']\n",
    "best_b0_first(brain_path,input_name='dwi_rm.nii',output_name='dwi_mb0.nii',best_b0_vols=3,b0_threshold=11,\n",
    "                  b_name_in='dwi_rm',b_name_out='dwi_mb0',type_output=16)"
   ]
  }
 ],
 "metadata": {
  "kernelspec": {
   "display_name": "base",
   "language": "python",
   "name": "python3"
  },
  "language_info": {
   "codemirror_mode": {
    "name": "ipython",
    "version": 3
   },
   "file_extension": ".py",
   "mimetype": "text/x-python",
   "name": "python",
   "nbconvert_exporter": "python",
   "pygments_lexer": "ipython3",
   "version": "3.9.13"
  },
  "orig_nbformat": 4,
  "vscode": {
   "interpreter": {
    "hash": "d6a818820a2d4b94df252b23f7d311b5b1a3798c769b2a454cee3c1911e726f3"
   }
  }
 },
 "nbformat": 4,
 "nbformat_minor": 2
}
