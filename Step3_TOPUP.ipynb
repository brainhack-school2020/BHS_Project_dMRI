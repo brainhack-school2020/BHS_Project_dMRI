{
 "cells": [
  {
   "cell_type": "code",
   "execution_count": null,
   "metadata": {},
   "outputs": [],
   "source": []
  },
  {
   "attachments": {},
   "cell_type": "markdown",
   "metadata": {},
   "source": [
    "## Function Definition"
   ]
  },
  {
   "cell_type": "code",
   "execution_count": null,
   "metadata": {},
   "outputs": [],
   "source": [
    "def dwi_topup(brain_path,output_name,readout):\n",
    "    '''\n",
    "    readout: readout time for fist and second dwi, example readout=[0.157,0.157]\n",
    "    '''\n",
    "    # change slice number to even\n",
    "    import os\n",
    "    import numpy as np\n",
    "    from dipy.io.image import load_nifti, save_nifti\n",
    "    from dipy.segment.mask import applymask\n",
    "    from dipy.io import read_bvals_bvecs\n",
    "    from dipy.core.gradients import gradient_table\n",
    "    from dipy.reconst.dti import TensorModel\n",
    "    from dipy.reconst.dti import TensorFit\n",
    "    from dipy.reconst.dti import color_fa\n",
    "    from tqdm.notebook import tqdm\n",
    "    from dipy.viz import regtools\n",
    "    import dipy.denoise.noise_estimate as ne\n",
    "    import nibabel as nib\n",
    "    brain_path = brain_path\n",
    "    for Study_folder in tqdm(brain_path):\n",
    "        os.chdir(Study_folder)\n",
    "        dwi_file1 = os.path.join(Study_folder,'AP.nii') # 4D diffusion data file name\n",
    "        data1,affine1,img1 = load_nifti(dwi_file1,return_img=True)\n",
    "\n",
    "        dwi_file2 = os.path.join(Study_folder,'PA.nii') # 4D diffusion data file name\n",
    "        data2,affine2,img2 = load_nifti(dwi_file2,return_img=True)\n",
    "\n",
    "        data_new = np.zeros(data1.shape[0:-1]+(2,))\n",
    "        data_new[:,:,:,0] = data1[:,:,:,0]\n",
    "        data_new[:,:,:,1] = data2[:,:,:,0]\n",
    "        # img_new = nib.Nifti1Image(data_new.astype(np.int16), np.eye(4))\n",
    "        # zooms_old = img1.header.get_zooms()[0:4]\n",
    "        \n",
    "        # save_nifti_origin(input=img_new.get_data(),output_name='AP_PA',type_output=np.int16,\n",
    "        #                   zooms=zooms_old)\n",
    "        save_nifti('AP_PA', data_new, affine1,hdr=img1.header)\n",
    "        #######################\n",
    "        readout_value1 = readout[0]\n",
    "        readout_value2 = readout[1]\n",
    "        acqparams = [[0,-1,0,readout_value1],[0,1,0,readout_value2]] #0.17646\n",
    "        # index_number = 2\n",
    "        index = [[1]] # index_number is the volume number of registration image #[[1,2]]\n",
    "        np.savetxt('acqparams.txt',acqparams,fmt='%1.5f')\n",
    "        np.savetxt('index.txt',index,fmt='%1.0f')\n",
    "        ######################\n",
    "        from nipype.interfaces.fsl.epi import TOPUP\n",
    "        import nipype.interfaces.fsl as fsl\n",
    "        topup = TOPUP()\n",
    "        topup.inputs.in_file = os.path.join(Study_folder,'AP_PA.nii')\n",
    "        topup.inputs.encoding_file = 'acqparams.txt'\n",
    "        topup.inputs.output_type = 'NIFTI'\n",
    "        topup.inputs.out_base = 'dwi_topup'\n",
    "        topup.cmdline\n",
    "        topup.run()\n",
    "        #######################\n",
    "        from nipype.interfaces.fsl import ApplyTOPUP\n",
    "        applytopup = ApplyTOPUP()\n",
    "        applytopup.inputs.in_files = [dwi_file1,dwi_file2]\n",
    "        applytopup.inputs.encoding_file = 'acqparams.txt'\n",
    "        applytopup.inputs.in_index = list([1,2])\n",
    "        applytopup.inputs.in_topup_fieldcoef = 'dwi_topup_fieldcoef.nii'\n",
    "        applytopup.inputs.in_topup_movpar = 'dwi_topup_movpar.txt'\n",
    "        applytopup.inputs.output_type = \"NIFTI\"\n",
    "        applytopup.inputs.method = 'jac' # 'jac'\n",
    "        applytopup.inputs.out_corrected = output_name+'.nii'\n",
    "        applytopup.run()"
   ]
  },
  {
   "cell_type": "code",
   "execution_count": null,
   "metadata": {},
   "outputs": [],
   "source": [
    "readout_list = [0.03784,0.03784]\n",
    "brain_path = ['/media/erjun/One_Touch/Newborns/sub-B027S1/ses-01/TOPUP']\n",
    "dwi_topup(brain_path,output_name='dwi_topuped',readout=readout_list)"
   ]
  }
 ],
 "metadata": {
  "kernelspec": {
   "display_name": "base",
   "language": "python",
   "name": "python3"
  },
  "language_info": {
   "codemirror_mode": {
    "name": "ipython",
    "version": 3
   },
   "file_extension": ".py",
   "mimetype": "text/x-python",
   "name": "python",
   "nbconvert_exporter": "python",
   "pygments_lexer": "ipython3",
   "version": "3.9.13"
  },
  "orig_nbformat": 4,
  "vscode": {
   "interpreter": {
    "hash": "d6a818820a2d4b94df252b23f7d311b5b1a3798c769b2a454cee3c1911e726f3"
   }
  }
 },
 "nbformat": 4,
 "nbformat_minor": 2
}
