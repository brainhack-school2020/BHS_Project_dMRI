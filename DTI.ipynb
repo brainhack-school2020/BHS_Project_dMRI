{
 "cells": [
  {
   "cell_type": "markdown",
   "metadata": {},
   "source": [
    "# __Diffusion Tensor Imaging__\n",
    "#### __Last updated on:__ 29/05/2020"
   ]
  },
  {
   "cell_type": "markdown",
   "metadata": {},
   "source": [
    "## DTI reconstruction"
   ]
  },
  {
   "cell_type": "markdown",
   "metadata": {},
   "source": [
    "###  Import libraries used"
   ]
  },
  {
   "cell_type": "code",
   "execution_count": null,
   "metadata": {},
   "outputs": [],
   "source": [
    "import os\n",
    "import numpy as np\n",
    "import nibabel as nib\n",
    "import timeit; timeit.timeit()\n",
    "import math\n",
    "from skimage import io #用于读取保存或显示图片或者视频\n",
    "\n",
    "from dipy.io import read_bvals_bvecs\n",
    "from dipy.core.gradients import gradient_table\n",
    "from dipy.reconst.dti import TensorModel\n",
    "from dipy.reconst.dti import fractional_anisotropy\n",
    "from dipy.reconst.dti import color_fa"
   ]
  },
  {
   "cell_type": "markdown",
   "metadata": {},
   "source": [
    "### __DWI data path__"
   ]
  },
  {
   "cell_type": "code",
   "execution_count": null,
   "metadata": {},
   "outputs": [],
   "source": [
    "data_path = \"/home/erjun/Documents/dHCP/dhcp_dmri_pipeline/sub-CC00060XX03/ses-12501/dwi\"\n",
    "dwi_file = 'sub-CC00060XX03_ses-12501_desc-preproc_dwi.nii.gz'\n",
    "brainmask_file = 'sub-CC00060XX03_ses-12501_desc-preproc_space-dwi_brainmask.nii.gz'\n",
    "bval = 'sub-CC00060XX03_ses-12501_desc-preproc_dwi.bval'\n",
    "bvec = 'sub-CC00060XX03_ses-12501_desc-preproc_dwi.bvec'"
   ]
  },
  {
   "cell_type": "markdown",
   "metadata": {},
   "source": [
    "### __Post-processing__"
   ]
  },
  {
   "cell_type": "code",
   "execution_count": null,
   "metadata": {},
   "outputs": [],
   "source": [
    "# Change directory\n",
    "os.chdir(data_path)\n",
    "\n",
    "#--------------------------------------------------\n",
    "# load DWI data files\n",
    "#--------------------------------------------------\n",
    "img1 = nib.load(os.path.join(data_path,dwi_file))\n",
    "data = img1.get_data()\n",
    "\n",
    "img2 = nib.load(os.path.join(data_path,brainmask_file))\n",
    "brainmask = img2.get_data()\n",
    "\n",
    "bvals, bvecs = read_bvals_bvecs(os.path.join(bval),\n",
    "                                os.path.join(data_path,bvec))\n",
    "gtab = gradient_table(bvals, bvecs)\n",
    "\n",
    "#--------------------------------------------------------------\n",
    "#               Fit diffusion tensor model\n",
    "#--------------------------------------------------------------\n",
    "print('Fitting diffuison tensor model')\n",
    "\n",
    "ten_model = TensorModel(gtab)\n",
    "ten_fit = ten_model.fit(data, brainmask)\n",
    "        \n",
    "#--------------------------------------------------------------\n",
    "#               Save DTI parametric maps\n",
    "#--------------------------------------------------------------\n",
    "if not os.path.exists(data_path+'/DTI/'):\n",
    "    os.mkdir(data_path+'/DTI')\n",
    "output_path = data_path+'/DTI/'\n",
    "        \n",
    "FA = ten_fit.fa\n",
    "AD = ten_fit.ad\n",
    "RD = ten_fit.rd\n",
    "MD = ten_fit.md\n",
    "        \n",
    "nib.save(nib.Nifti1Image(FA, img1.affine), os.path.join(output_path,'FA.nii.gz'))\n",
    "nib.save(nib.Nifti1Image(MD, img1.affine), os.path.join(output_path,'MD.nii.gz'))\n",
    "nib.save(nib.Nifti1Image(RD, img1.affine), os.path.join(output_path,'RD.nii.gz'))\n",
    "nib.save(nib.Nifti1Image(AD, img1.affine), os.path.join(output_path,'AD.nii.gz'))\n",
    "    \n",
    "#--------------------------------------------------------------\n",
    "#               Save FA RGB map\n",
    "#--------------------------------------------------------------\n",
    "fa = fractional_anisotropy(ten_fit.evals)\n",
    "cfa = color_fa(fa, ten_fit.evecs)\n",
    "FA = np.clip(fa, 0, 1)\n",
    "RGB = color_fa(fa, ten_fit.evecs)\n",
    "\n",
    "nib.save(nib.Nifti1Image(np.array(255 * cfa, 'uint8'), img1.affine), os.path.join(output_path,'FA_RGB.nii.gz'))\n",
    "\n",
    "print('Elapsed time:',timeit.timeit())\n",
    "print('Done!!')"
   ]
  },
  {
   "cell_type": "markdown",
   "metadata": {},
   "source": [
    "## Visualization of MRI"
   ]
  },
  {
   "cell_type": "markdown",
   "metadata": {},
   "source": [
    "### Basical output maps"
   ]
  },
  {
   "cell_type": "code",
   "execution_count": null,
   "metadata": {},
   "outputs": [],
   "source": [
    "import matplotlib.pyplot as plt\n",
    "from mpl_toolkits.mplot3d import Axes3D\n",
    "%matplotlib inline\n",
    "\n",
    "# set plot background\n",
    "plt.style.use('seaborn-dark')\n",
    "\n",
    "# plot paramter maps          \n",
    "fig, [ax0, ax1, ax2, ax3, ax4] = plt.subplots(1,5,figsize=(15,8),subplot_kw={'xticks': [], 'yticks': []})\n",
    "ax0.imshow(RGB[:,30,:,:]); ax0.set_title('Color coded FA',fontweight='bold',size=10)\n",
    "ax1.imshow(FA[:,30,:]); ax1.set_title('Fractional anisotropy',fontweight='bold',size=10)\n",
    "ax2.imshow(MD[:,30,:]); ax2.set_title('Mean diffusivity',fontweight='bold',size=10)\n",
    "ax3.imshow(RD[:,30,:]); ax3.set_title('Radial diffusivity',fontweight='bold',size=10)\n",
    "ax4.imshow(AD[:,30,:]); ax4.set_title('Axial diffusivity',fontweight='bold',size=10)"
   ]
  },
  {
   "cell_type": "code",
   "execution_count": null,
   "metadata": {},
   "outputs": [],
   "source": [
    "np.shape(FA)"
   ]
  },
  {
   "cell_type": "markdown",
   "metadata": {},
   "source": [
    "### 3D MRI\n",
    "- RGB\n",
    "- With a data cursor "
   ]
  },
  {
   "cell_type": "code",
   "execution_count": null,
   "metadata": {},
   "outputs": [],
   "source": [
    "# plot new figure\n",
    "from matplotlib.widgets import Cursor\n",
    "plt.figure(figsize=(12,12))\n",
    "\n",
    "# plot paramter maps          \n",
    "plt.title('Color Coded Fractional anisotropy',fontweight='bold',fontsize=16)\n",
    "#plt.xticks([]);plt.yticks([]);\n",
    "plt.axis('off')\n",
    "ax8=plt.imshow(RGB[:,:,20,:])\n",
    "#cursor = Cursor(ax8,useblit=True, color='white',linewidth=2)\n",
    "plt.show()\n"
   ]
  },
  {
   "cell_type": "markdown",
   "metadata": {},
   "source": [
    "### Slider\n",
    "- RGB images\n",
    "- From slice 0 to slice 63;"
   ]
  },
  {
   "cell_type": "code",
   "execution_count": null,
   "metadata": {
    "scrolled": false
   },
   "outputs": [],
   "source": [
    "# Import data\n",
    "import time\n",
    "import numpy as np\n",
    "\n",
    "from skimage import io #用于读取保存或显示图片或者视频\n",
    "\n",
    "vol = MD\n",
    "colormax = vol.max()#获取最大array中的最大值，最后代表cmax\n",
    "volume = vol.T\n",
    "len(volume)\n",
    "r, c = volume[math.floor(len(volume)/2)].shape\n",
    "# Define frames\n",
    "import plotly.graph_objects as go\n",
    "nb_frames = len(volume)-1\n",
    "\n",
    "fig = go.Figure(frames=[go.Frame(data=go.Surface(\n",
    "    z=(len(volume)-1 - k ) * np.ones((r, c)),\n",
    "    surfacecolor=volume[len(volume)-1 - k],\n",
    "    cmin=0, cmax=colormax\n",
    "    ),\n",
    "    name=str(k) # you need to name the frame for the animation to behave properly\n",
    "    )\n",
    "    for k in range(nb_frames)])\n",
    "\n",
    "# Add data to be displayed before animation starts\n",
    "fig.add_trace(go.Surface(\n",
    "    z=(len(volume)-1) * np.ones((r, c)),\n",
    "    surfacecolor=volume[len(volume)-1],#np.flipud(volume[30]),\n",
    "    #colorscale='Gray',\n",
    "    cmin=0, cmax=colormax,\n",
    "    colorbar=dict(thickness=20, ticklen=4)\n",
    "    ))\n",
    "\n",
    "\n",
    "def frame_args(duration):\n",
    "    return {\n",
    "            \"frame\": {\"duration\": duration},\n",
    "            \"mode\": \"immediate\",\n",
    "            \"fromcurrent\": True,\n",
    "            \"transition\": {\"duration\": duration, \"easing\": \"linear\"},\n",
    "        }\n",
    "\n",
    "sliders = [\n",
    "            {\n",
    "                \"pad\": {\"b\": 10, \"t\": 60},\n",
    "                \"len\": 0.9,\n",
    "                \"x\": 0.1,\n",
    "                \"y\": 0,\n",
    "                \"steps\": [\n",
    "                    {\n",
    "                        \"args\": [[f.name], frame_args(0)],\n",
    "                        \"label\": str(k),\n",
    "                        \"method\": \"animate\",\n",
    "                    }\n",
    "                    for k, f in enumerate(fig.frames)\n",
    "                ],\n",
    "            }\n",
    "        ]\n",
    "\n",
    "# Layout\n",
    "fig.update_layout(\n",
    "         title='Slices in volumetric data',\n",
    "         width=600,\n",
    "         height=600,\n",
    "         scene=dict(\n",
    "                    zaxis=dict(range=[-1, len(volume)-1], autorange=False),\n",
    "                    aspectratio=dict(x=1, y=1, z=1),\n",
    "                    ),\n",
    "         updatemenus = [\n",
    "            {\n",
    "                \"buttons\": [\n",
    "                    {\n",
    "                        \"args\": [None, frame_args(50)],\n",
    "                        \"label\": \"&#9654;\", # play symbol\n",
    "                        \"method\": \"animate\",\n",
    "                    },\n",
    "                    {\n",
    "                        \"args\": [[None], frame_args(0)],\n",
    "                        \"label\": \"&#9724;\", # pause symbol\n",
    "                        \"method\": \"animate\",\n",
    "                    },\n",
    "                ],\n",
    "                \"direction\": \"left\",\n",
    "                \"pad\": {\"r\": 10, \"t\": 70},\n",
    "                \"type\": \"buttons\",\n",
    "                \"x\": 0.1,\n",
    "                \"y\": 0,\n",
    "            }\n",
    "         ],\n",
    "         sliders=sliders\n",
    ")\n",
    "\n",
    "fig.show()"
   ]
  },
  {
   "cell_type": "markdown",
   "metadata": {},
   "source": [
    "### Dropdown\n",
    "\n",
    "- option $1$:RGB,FA,MD,RD,AD;\n",
    "- option $2$: slice 0:63;\n"
   ]
  },
  {
   "cell_type": "code",
   "execution_count": null,
   "metadata": {},
   "outputs": [],
   "source": []
  }
 ],
 "metadata": {
  "anaconda-cloud": {},
  "kernelspec": {
   "display_name": "Python 3",
   "language": "python",
   "name": "python3"
  },
  "language_info": {
   "codemirror_mode": {
    "name": "ipython",
    "version": 3
   },
   "file_extension": ".py",
   "mimetype": "text/x-python",
   "name": "python",
   "nbconvert_exporter": "python",
   "pygments_lexer": "ipython3",
   "version": "3.7.6"
  }
 },
 "nbformat": 4,
 "nbformat_minor": 2
}
